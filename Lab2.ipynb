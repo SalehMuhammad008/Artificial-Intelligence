{
 "cells": [
  {
   "cell_type": "code",
   "execution_count": 5,
   "id": "2b293b79-4c3f-4018-b4d8-25b39f87529d",
   "metadata": {},
   "outputs": [
    {
     "name": "stdout",
     "output_type": "stream",
     "text": [
      "['Sheet1']\n",
      "   Unnamed: 0    Name  Age    Stream  Percentage\n",
      "0           1   Saleh   21     Maths          75\n",
      "1           2  Sameer   19   Science          80\n",
      "2           3   Arsal   19  Commerce          70\n",
      "3           4    Faiq   21     Maths          65\n",
      "4           5  Subhan   18   Science          85\n"
     ]
    }
   ],
   "source": [
    "import pandas as pd\n",
    "excel_file = pd.ExcelFile('SM.xlsx')\n",
    "print (excel_file.sheet_names)\n",
    "df = excel_file.parse('Sheet1') \n",
    "print(df)"
   ]
  },
  {
   "cell_type": "code",
   "execution_count": 7,
   "id": "04ee4cbc-bbe5-4956-b5fd-2354e667cc19",
   "metadata": {},
   "outputs": [
    {
     "name": "stdout",
     "output_type": "stream",
     "text": [
      "        Math  Science  English  History\n",
      "Ali       85       80       88       92\n",
      "Amir      90       85       76       81\n",
      "Kamran    78       75       85       88\n",
      "Sara      92       95       89       84\n",
      "Zara      88       82       91       86\n"
     ]
    }
   ],
   "source": [
    "import pandas as pd\n",
    "\n",
    "data = {\n",
    "    \"Math\": [85, 90, 78, 92, 88],\n",
    "    \"Science\": [80, 85, 75, 95, 82],\n",
    "    \"English\": [88, 76, 85, 89, 91],\n",
    "    \"History\": [92, 81, 88, 84, 86]\n",
    "}\n",
    "\n",
    "\n",
    "index = [\"Ali\", \"Amir\", \"Kamran\", \"Sara\", \"Zara\"]\n",
    "\n",
    "df = pd.DataFrame(data, index=index)\n",
    "\n",
    "print(df)"
   ]
  },
  {
   "cell_type": "code",
   "execution_count": 8,
   "id": "0162eff7-2bc7-47a6-9fc5-d0f3324f051c",
   "metadata": {},
   "outputs": [
    {
     "name": "stdout",
     "output_type": "stream",
     "text": [
      "   Unnamed: 0    Name\n",
      "0           1   Saleh\n",
      "1           2  Sameer\n",
      "2           3   Arsal\n",
      "3           4    Faiq\n",
      "4           5  Subhan\n"
     ]
    }
   ],
   "source": [
    "import pandas as pd\n",
    "\n",
    "\n",
    "df = pd.read_excel('SM.xlsx')\n",
    "\n",
    "print(df.iloc[:, :2])"
   ]
  },
  {
   "cell_type": "code",
   "execution_count": 10,
   "id": "ad7b3024-1d22-4eef-8a51-4243d1ad0725",
   "metadata": {},
   "outputs": [
    {
     "name": "stdout",
     "output_type": "stream",
     "text": [
      "   2  Sameer  19   Science  80\n",
      "0  3   Arsal  19  Commerce  70\n",
      "1  4    Faiq  21     Maths  65\n",
      "2  5  Subhan  18   Science  85\n"
     ]
    }
   ],
   "source": [
    "import pandas as pd\n",
    "\n",
    "df = pd.read_excel('SM.xlsx',skiprows=2)\n",
    "\n",
    "print(df)"
   ]
  },
  {
   "cell_type": "code",
   "execution_count": 2,
   "id": "fe8f618f-ad67-4bea-b51c-02b7aa72ea76",
   "metadata": {},
   "outputs": [
    {
     "name": "stdout",
     "output_type": "stream",
     "text": [
      "   S.No               Name     Gender  Age  Unnamed: 4\n",
      "0     1        Olivia Chen     Female   25         NaN\n",
      "1     2        Ethan Patel       Male   26         NaN\n",
      "2     3    Sophia Martinez     Female   23         NaN\n",
      "3     4       Liam Johnson       Male   30         NaN\n",
      "4     5            Ava Kim     Female   31         NaN\n",
      "5     6         Noah Singh       Male   26         NaN\n",
      "6     7  Isabella Thompson  No Gender   22         NaN\n",
      "7     8       Mason Rivera  No Gender   23         NaN\n",
      "8     9       Mia Gonzalez     Female   33         NaN\n",
      "9    10        James Brown       Male   38         NaN\n"
     ]
    }
   ],
   "source": [
    "import pandas as pd\n",
    "\n",
    "df = pd.read_csv('Employee.csv')\n",
    "\n",
    "df['Gender'] = df['Gender'].fillna(\"No Gender\")\n",
    "\n",
    "print(df.iloc[0:11])"
   ]
  },
  {
   "cell_type": "code",
   "execution_count": 3,
   "id": "976b0697-1ca6-46fe-84d7-e440074ee62a",
   "metadata": {},
   "outputs": [
    {
     "name": "stdout",
     "output_type": "stream",
     "text": [
      "Normalized Data:\n",
      "   Age  Age_Normalized  Salary  Salary_Normalized\n",
      "0   25            0.00   50000           0.066667\n",
      "1   32            0.28   60000           0.200000\n",
      "2   40            0.60   75000           0.400000\n",
      "3   50            1.00  120000           1.000000\n",
      "4   28            0.12   45000           0.000000\n"
     ]
    }
   ],
   "source": [
    "import pandas as pd\n",
    "\n",
    "# Sample data\n",
    "data = {'Age': [25, 32, 40, 50, 28], 'Salary': [50000, 60000, 75000, 120000, 45000]}\n",
    "df = pd.DataFrame(data)\n",
    "\n",
    "df['Age_Normalized'] = (df['Age'] - df['Age'].min()) / (df['Age'].max() - df['Age'].min())\n",
    "df['Salary_Normalized'] = (df['Salary'] - df['Salary'].min()) / (df['Salary'].max() - df['Salary'].min())\n",
    "\n",
    "print(\"Normalized Data:\")\n",
    "print(df[['Age', 'Age_Normalized', 'Salary', 'Salary_Normalized']])\n"
   ]
  },
  {
   "cell_type": "code",
   "execution_count": 5,
   "id": "fa832f9b-d24a-426b-a457-fa826851e885",
   "metadata": {},
   "outputs": [
    {
     "name": "stdout",
     "output_type": "stream",
     "text": [
      "Standardized Data:\n",
      "   Age  Age_Standardized  Salary  Salary_Standardized\n",
      "0   25         -1.330145   42000            -0.990994\n",
      "1   36          0.466718   50000             0.189765\n",
      "2   30         -0.513389   45000            -0.548209\n",
      "3   27         -1.003443   43000            -0.843399\n",
      "4   38          0.793420   51000             0.337360\n",
      "5   42          1.446825   62000             1.960903\n",
      "6   34          0.140015   48000            -0.105425\n"
     ]
    }
   ],
   "source": [
    "import pandas as pd\n",
    "\n",
    "data = {\n",
    "    'Age': [25, 36, 30, 27, 38, 42, 34],\n",
    "    'Salary': [42000, 50000, 45000, 43000, 51000, 62000, 48000]\n",
    "}\n",
    "df = pd.DataFrame(data)\n",
    "\n",
    "df['Age_Standardized'] = (df['Age'] - df['Age'].mean()) / df['Age'].std()\n",
    "df['Salary_Standardized'] = (df['Salary'] - df['Salary'].mean()) / df['Salary'].std()\n",
    "\n",
    "print(\"Standardized Data:\")\n",
    "print(df[['Age', 'Age_Standardized', 'Salary', 'Salary_Standardized']])\n"
   ]
  },
  {
   "cell_type": "code",
   "execution_count": 2,
   "id": "12917a30-8a2e-4499-a7c4-59c6decc6992",
   "metadata": {},
   "outputs": [
    {
     "name": "stdout",
     "output_type": "stream",
     "text": [
      "Original DataFrame:\n",
      "   First Score  Second Score  Third Score\n",
      "0        100.0          30.0          NaN\n",
      "1         90.0          45.0         40.0\n",
      "2          NaN          56.0         80.0\n",
      "3         95.0           NaN         98.0\n",
      "\n",
      "DataFrame after backward filling:\n",
      "   First Score  Second Score  Third Score\n",
      "0        100.0          30.0         40.0\n",
      "1         90.0          45.0         40.0\n",
      "2         95.0          56.0         80.0\n",
      "3         95.0           NaN         98.0\n"
     ]
    }
   ],
   "source": [
    "import pandas as pd\n",
    "import numpy as np\n",
    "\n",
    "# Define the dictionary\n",
    "data = {'First Score': [100, 90, np.nan, 95],\n",
    "        'Second Score': [30, 45, 56, np.nan],\n",
    "        'Third Score': [np.nan, 40, 80, 98]}\n",
    "\n",
    "# Create the DataFrame\n",
    "df = pd.DataFrame(data)\n",
    "\n",
    "# Use bfill() directly to perform backward fill\n",
    "df_interpolated = df.bfill()\n",
    "\n",
    "print(\"Original DataFrame:\")\n",
    "print(df)\n",
    "print(\"\\nDataFrame after backward filling:\")\n",
    "print(df_interpolated)\n"
   ]
  },
  {
   "cell_type": "code",
   "execution_count": null,
   "id": "da8048ff-72f0-41e7-be66-9d2b3a940d10",
   "metadata": {},
   "outputs": [],
   "source": []
  }
 ],
 "metadata": {
  "kernelspec": {
   "display_name": "Python 3 (ipykernel)",
   "language": "python",
   "name": "python3"
  },
  "language_info": {
   "codemirror_mode": {
    "name": "ipython",
    "version": 3
   },
   "file_extension": ".py",
   "mimetype": "text/x-python",
   "name": "python",
   "nbconvert_exporter": "python",
   "pygments_lexer": "ipython3",
   "version": "3.13.0"
  }
 },
 "nbformat": 4,
 "nbformat_minor": 5
}
